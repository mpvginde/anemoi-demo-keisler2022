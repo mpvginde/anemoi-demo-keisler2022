{
 "cells": [
  {
   "cell_type": "markdown",
   "id": "fdf18321",
   "metadata": {},
   "source": [
    "# Using trained anemoi models\n",
    "\n",
    "The central artifact resulting from the training of an anemoi model is its inference checkpoint*. The checkpoint not only contains the model itself (pickled python object and weights), but also the graph on which the model operates and a rich metadata information that tells us about how the model was trained, what data was used, and more.\n",
    "\n",
    "In this notebook, we will have a look at the content of a checkpoint and then generate some simple configuration files to launch a model inference run.\n",
    "\n",
    "\n",
    "*_Contrary to a training checkpoint, an inference checkpoint does not contain training-related information, such as the optimizer's state._\n"
   ]
  },
  {
   "cell_type": "markdown",
   "id": "9aeac472",
   "metadata": {},
   "source": [
    "## anemoi-inference\n",
    "\n",
    "A simple interface for running anemoi models is provided by the anemoi-inference package. As with the other components of anemoi, it is used from the command line. Let's have a look:\n",
    "\n",
    "\n",
    "**NOTE**: anemoi-inference is one of the less mature components of anemoi - it is still undergoing frequent large changes and refactorings.\n"
   ]
  },
  {
   "cell_type": "code",
   "execution_count": 7,
   "id": "65e9f3f6",
   "metadata": {},
   "outputs": [
    {
     "name": "stdout",
     "output_type": "stream",
     "text": [
      "usage: anemoi-inference [-h] [--version] [--debug] [--rich]\n",
      "                        {couple,inspect,metadata,patch,requests,retrieve,run,sanitise,validate}\n",
      "                        ...\n",
      "\n",
      "positional arguments:\n",
      "  {couple,inspect,metadata,patch,requests,retrieve,run,sanitise,validate}\n",
      "                        commands:\n",
      "    couple              Couple tasks based on a configuration file.\n",
      "    inspect             Inspect the contents of a checkpoint file.\n",
      "    metadata            Edit, remove, dump or load metadata from a checkpoint\n",
      "                        file.\n",
      "    patch               Patch a checkpoint file.\n",
      "    requests            MARS request utility.\n",
      "    retrieve            Used by prepml.\n",
      "    run                 Run inference from a config yaml file.\n",
      "    sanitise            Sanitise a checkpoint file.\n",
      "    validate            Validate the virtual environment against a checkpoint\n",
      "                        file.\n",
      "\n",
      "options:\n",
      "  -h, --help            show this help message and exit\n",
      "  --version, -V         show the version and exit\n",
      "  --debug, -d           Debug mode\n",
      "  --rich                Use rich for logging\n"
     ]
    }
   ],
   "source": [
    "!anemoi-inference --help"
   ]
  },
  {
   "cell_type": "markdown",
   "id": "b36c781a",
   "metadata": {},
   "source": [
    "As mentioned earlier, we want to have a look at the model's checkpoint. For this, the `inspect` command is provided:"
   ]
  },
  {
   "cell_type": "code",
   "execution_count": 8,
   "id": "c54faf75",
   "metadata": {},
   "outputs": [
    {
     "name": "stdout",
     "output_type": "stream",
     "text": [
      "usage: anemoi-inference inspect [-h]\n",
      "                                (--variables | --requirements | --datasets | --dump)\n",
      "                                [--json] [--validate]\n",
      "                                path\n",
      "\n",
      "Inspect the contents of a checkpoint file.\n",
      "\n",
      "positional arguments:\n",
      "  path            Path to the checkpoint.\n",
      "\n",
      "options:\n",
      "  -h, --help      show this help message and exit\n",
      "  --variables     List the training variables and their categories.\n",
      "  --requirements  Print a Python's requirements.txt based on the versions of\n",
      "                  the packages used during training.\n",
      "  --datasets      Print the arguments passed to anemoi-dataset during\n",
      "                  training.\n",
      "  --dump          Dump information from the checkpoint.\n",
      "  --json          Output in JSON format (with dump option)\n",
      "  --validate      Validate the environment.\n"
     ]
    }
   ],
   "source": [
    "!anemoi-inference inspect --help"
   ]
  },
  {
   "cell_type": "markdown",
   "id": "c0028a99",
   "metadata": {},
   "source": [
    "With this command, we can print information about the checkpoint in the terminal. Let's look at some examples."
   ]
  },
  {
   "cell_type": "code",
   "execution_count": 1,
   "id": "9e732eca",
   "metadata": {},
   "outputs": [],
   "source": [
    "CHECKPOINT_PATH=\"output/training/checkpoint/dfa1cd5d30aa4a1db2aa7404f8a33e72/inference-last.ckpt\""
   ]
  },
  {
   "cell_type": "markdown",
   "id": "89720666",
   "metadata": {},
   "source": []
  },
  {
   "cell_type": "code",
   "execution_count": 6,
   "id": "bf6d2942",
   "metadata": {},
   "outputs": [
    {
     "name": "stdout",
     "output_type": "stream",
     "text": [
      "/scratch/mch/fzanetta/projects/anemoi-demo-keisler2022/.venv/lib/python3.12/site-packages/anemoi/inference/legacy.py:41: UserWarning: Using legacy _legacy_variables_metadata, please try to patch your weights.\n",
      "  warnings.warn(f\"Using legacy {func.__name__}, please try to patch your weights.\")\n",
      "   10u            => prognostic\n",
      "   10v            => prognostic\n",
      "   2d             => prognostic\n",
      "   2t             => prognostic\n",
      "   cos_julian_day => computed, forcing\n",
      "   cos_latitude   => computed, constant, forcing\n",
      "   cos_local_time => computed, forcing\n",
      "   cos_longitude  => computed, constant, forcing\n",
      "   cp             => accumulation, diagnostic\n",
      "   insolation     => computed, forcing\n",
      "   lsm            => constant, forcing\n",
      "   msl            => prognostic\n",
      "   q_100          => prognostic\n",
      "   q_1000         => prognostic\n",
      "   q_150          => prognostic\n",
      "   q_200          => prognostic\n",
      "   q_250          => prognostic\n",
      "   q_300          => prognostic\n",
      "   q_400          => prognostic\n",
      "   q_50           => prognostic\n",
      "   q_500          => prognostic\n",
      "   q_600          => prognostic\n",
      "   q_700          => prognostic\n",
      "   q_850          => prognostic\n",
      "   q_925          => prognostic\n",
      "   sdor           => constant, forcing\n",
      "   sin_julian_day => computed, forcing\n",
      "   sin_latitude   => computed, constant, forcing\n",
      "   sin_local_time => computed, forcing\n",
      "   sin_longitude  => computed, constant, forcing\n",
      "   skt            => prognostic\n",
      "   slor           => constant, forcing\n",
      "   sp             => prognostic\n",
      "   t_100          => prognostic\n",
      "   t_1000         => prognostic\n",
      "   t_150          => prognostic\n",
      "   t_200          => prognostic\n",
      "   t_250          => prognostic\n",
      "   t_300          => prognostic\n",
      "   t_400          => prognostic\n",
      "   t_50           => prognostic\n",
      "   t_500          => prognostic\n",
      "   t_600          => prognostic\n",
      "   t_700          => prognostic\n",
      "   t_850          => prognostic\n",
      "   t_925          => prognostic\n",
      "   tcw            => prognostic\n",
      "   tp             => accumulation, diagnostic\n",
      "   u_100          => prognostic\n",
      "   u_1000         => prognostic\n",
      "   u_150          => prognostic\n",
      "   u_200          => prognostic\n",
      "   u_250          => prognostic\n",
      "   u_300          => prognostic\n",
      "   u_400          => prognostic\n",
      "   u_50           => prognostic\n",
      "   u_500          => prognostic\n",
      "   u_600          => prognostic\n",
      "   u_700          => prognostic\n",
      "   u_850          => prognostic\n",
      "   u_925          => prognostic\n",
      "   v_100          => prognostic\n",
      "   v_1000         => prognostic\n",
      "   v_150          => prognostic\n",
      "   v_200          => prognostic\n",
      "   v_250          => prognostic\n",
      "   v_300          => prognostic\n",
      "   v_400          => prognostic\n",
      "   v_50           => prognostic\n",
      "   v_500          => prognostic\n",
      "   v_600          => prognostic\n",
      "   v_700          => prognostic\n",
      "   v_850          => prognostic\n",
      "   v_925          => prognostic\n",
      "   w_100          => prognostic\n",
      "   w_1000         => prognostic\n",
      "   w_150          => prognostic\n",
      "   w_200          => prognostic\n",
      "   w_250          => prognostic\n",
      "   w_300          => prognostic\n",
      "   w_400          => prognostic\n",
      "   w_50           => prognostic\n",
      "   w_500          => prognostic\n",
      "   w_600          => prognostic\n",
      "   w_700          => prognostic\n",
      "   w_850          => prognostic\n",
      "   w_925          => prognostic\n",
      "   z              => constant, forcing\n",
      "   z_100          => prognostic\n",
      "   z_1000         => prognostic\n",
      "   z_150          => prognostic\n",
      "   z_200          => prognostic\n",
      "   z_250          => prognostic\n",
      "   z_300          => prognostic\n",
      "   z_400          => prognostic\n",
      "   z_50           => prognostic\n",
      "   z_500          => prognostic\n",
      "   z_600          => prognostic\n",
      "   z_700          => prognostic\n",
      "   z_850          => prognostic\n",
      "   z_925          => prognostic\n"
     ]
    }
   ],
   "source": [
    "!anemoi-inference inspect --variables ../{CHECKPOINT_PATH} "
   ]
  },
  {
   "cell_type": "markdown",
   "id": "5dd6f46e",
   "metadata": {},
   "source": []
  }
 ],
 "metadata": {
  "kernelspec": {
   "display_name": ".venv",
   "language": "python",
   "name": "python3"
  },
  "language_info": {
   "codemirror_mode": {
    "name": "ipython",
    "version": 3
   },
   "file_extension": ".py",
   "mimetype": "text/x-python",
   "name": "python",
   "nbconvert_exporter": "python",
   "pygments_lexer": "ipython3",
   "version": "3.12.6"
  }
 },
 "nbformat": 4,
 "nbformat_minor": 5
}
